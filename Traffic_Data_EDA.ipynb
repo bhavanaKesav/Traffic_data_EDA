{
 "cells": [
  {
   "cell_type": "code",
   "execution_count": 47,
   "id": "e6f53f8c",
   "metadata": {},
   "outputs": [],
   "source": [
    "# Importing required liberies\n",
    "import numpy as np\n",
    "import seaborn as sns\n",
    "import pandas as pd\n",
    "import matplotlib.pyplot as plt\n",
    "from sklearn.preprocessing import StandardScaler\n",
    "from sklearn.ensemble import RandomForestRegressor\n",
    "from sklearn.model_selection import train_test_split\n",
    "\n",
    "import warnings\n",
    "warnings.filterwarnings('ignore')"
   ]
  },
  {
   "cell_type": "code",
   "execution_count": 48,
   "id": "204b5ea0",
   "metadata": {},
   "outputs": [],
   "source": [
    "# Load the data set\n",
    "df = pd.read_csv(\"Dataset_Uber Traffic.csv\")"
   ]
  },
  {
   "cell_type": "code",
   "execution_count": 49,
   "id": "4b5fb023",
   "metadata": {},
   "outputs": [
    {
     "data": {
      "text/html": [
       "<div>\n",
       "<style scoped>\n",
       "    .dataframe tbody tr th:only-of-type {\n",
       "        vertical-align: middle;\n",
       "    }\n",
       "\n",
       "    .dataframe tbody tr th {\n",
       "        vertical-align: top;\n",
       "    }\n",
       "\n",
       "    .dataframe thead th {\n",
       "        text-align: right;\n",
       "    }\n",
       "</style>\n",
       "<table border=\"1\" class=\"dataframe\">\n",
       "  <thead>\n",
       "    <tr style=\"text-align: right;\">\n",
       "      <th></th>\n",
       "      <th>DateTime</th>\n",
       "      <th>Junction</th>\n",
       "      <th>Vehicles</th>\n",
       "      <th>ID</th>\n",
       "    </tr>\n",
       "  </thead>\n",
       "  <tbody>\n",
       "    <tr>\n",
       "      <th>0</th>\n",
       "      <td>01/11/15 0:00</td>\n",
       "      <td>1</td>\n",
       "      <td>15</td>\n",
       "      <td>20151101001</td>\n",
       "    </tr>\n",
       "    <tr>\n",
       "      <th>1</th>\n",
       "      <td>01/11/15 1:00</td>\n",
       "      <td>1</td>\n",
       "      <td>13</td>\n",
       "      <td>20151101011</td>\n",
       "    </tr>\n",
       "    <tr>\n",
       "      <th>2</th>\n",
       "      <td>01/11/15 2:00</td>\n",
       "      <td>1</td>\n",
       "      <td>10</td>\n",
       "      <td>20151101021</td>\n",
       "    </tr>\n",
       "    <tr>\n",
       "      <th>3</th>\n",
       "      <td>01/11/15 3:00</td>\n",
       "      <td>1</td>\n",
       "      <td>7</td>\n",
       "      <td>20151101031</td>\n",
       "    </tr>\n",
       "    <tr>\n",
       "      <th>4</th>\n",
       "      <td>01/11/15 4:00</td>\n",
       "      <td>1</td>\n",
       "      <td>9</td>\n",
       "      <td>20151101041</td>\n",
       "    </tr>\n",
       "  </tbody>\n",
       "</table>\n",
       "</div>"
      ],
      "text/plain": [
       "        DateTime  Junction  Vehicles           ID\n",
       "0  01/11/15 0:00         1        15  20151101001\n",
       "1  01/11/15 1:00         1        13  20151101011\n",
       "2  01/11/15 2:00         1        10  20151101021\n",
       "3  01/11/15 3:00         1         7  20151101031\n",
       "4  01/11/15 4:00         1         9  20151101041"
      ]
     },
     "execution_count": 49,
     "metadata": {},
     "output_type": "execute_result"
    }
   ],
   "source": [
    "df.head(5)"
   ]
  },
  {
   "cell_type": "code",
   "execution_count": 50,
   "id": "47ac4fdf",
   "metadata": {},
   "outputs": [
    {
     "data": {
      "text/plain": [
       "(48120, 4)"
      ]
     },
     "execution_count": 50,
     "metadata": {},
     "output_type": "execute_result"
    }
   ],
   "source": [
    "df.shape"
   ]
  },
  {
   "cell_type": "code",
   "execution_count": 51,
   "id": "f830247a",
   "metadata": {},
   "outputs": [
    {
     "name": "stdout",
     "output_type": "stream",
     "text": [
      "<class 'pandas.core.frame.DataFrame'>\n",
      "RangeIndex: 48120 entries, 0 to 48119\n",
      "Data columns (total 4 columns):\n",
      " #   Column    Non-Null Count  Dtype \n",
      "---  ------    --------------  ----- \n",
      " 0   DateTime  48120 non-null  object\n",
      " 1   Junction  48120 non-null  int64 \n",
      " 2   Vehicles  48120 non-null  int64 \n",
      " 3   ID        48120 non-null  int64 \n",
      "dtypes: int64(3), object(1)\n",
      "memory usage: 1.5+ MB\n"
     ]
    }
   ],
   "source": [
    "df.info()"
   ]
  },
  {
   "cell_type": "markdown",
   "id": "2266cf2c",
   "metadata": {},
   "source": [
    "##### Data Cleaning "
   ]
  },
  {
   "cell_type": "code",
   "execution_count": 52,
   "id": "0757414a",
   "metadata": {},
   "outputs": [
    {
     "data": {
      "text/plain": [
       "DateTime    0\n",
       "Junction    0\n",
       "Vehicles    0\n",
       "ID          0\n",
       "dtype: int64"
      ]
     },
     "execution_count": 52,
     "metadata": {},
     "output_type": "execute_result"
    }
   ],
   "source": [
    "df.isnull().sum()\n"
   ]
  },
  {
   "cell_type": "markdown",
   "id": "2063d964",
   "metadata": {},
   "source": [
    "we see no null values in data"
   ]
  },
  {
   "cell_type": "code",
   "execution_count": 53,
   "id": "a21162be",
   "metadata": {},
   "outputs": [
    {
     "data": {
      "text/plain": [
       "0"
      ]
     },
     "execution_count": 53,
     "metadata": {},
     "output_type": "execute_result"
    }
   ],
   "source": [
    "df.duplicated().sum()"
   ]
  },
  {
   "cell_type": "markdown",
   "id": "3f07bc68",
   "metadata": {},
   "source": [
    "we see no duplicate values in data"
   ]
  },
  {
   "cell_type": "code",
   "execution_count": 54,
   "id": "30dab756",
   "metadata": {},
   "outputs": [
    {
     "data": {
      "text/html": [
       "<div>\n",
       "<style scoped>\n",
       "    .dataframe tbody tr th:only-of-type {\n",
       "        vertical-align: middle;\n",
       "    }\n",
       "\n",
       "    .dataframe tbody tr th {\n",
       "        vertical-align: top;\n",
       "    }\n",
       "\n",
       "    .dataframe thead th {\n",
       "        text-align: right;\n",
       "    }\n",
       "</style>\n",
       "<table border=\"1\" class=\"dataframe\">\n",
       "  <thead>\n",
       "    <tr style=\"text-align: right;\">\n",
       "      <th></th>\n",
       "      <th>Junction</th>\n",
       "      <th>Vehicles</th>\n",
       "      <th>ID</th>\n",
       "    </tr>\n",
       "  </thead>\n",
       "  <tbody>\n",
       "    <tr>\n",
       "      <th>count</th>\n",
       "      <td>48120.000000</td>\n",
       "      <td>48120.000000</td>\n",
       "      <td>4.812000e+04</td>\n",
       "    </tr>\n",
       "    <tr>\n",
       "      <th>mean</th>\n",
       "      <td>2.180549</td>\n",
       "      <td>22.791334</td>\n",
       "      <td>2.016330e+10</td>\n",
       "    </tr>\n",
       "    <tr>\n",
       "      <th>std</th>\n",
       "      <td>0.966955</td>\n",
       "      <td>20.750063</td>\n",
       "      <td>5.944854e+06</td>\n",
       "    </tr>\n",
       "    <tr>\n",
       "      <th>min</th>\n",
       "      <td>1.000000</td>\n",
       "      <td>1.000000</td>\n",
       "      <td>2.015110e+10</td>\n",
       "    </tr>\n",
       "    <tr>\n",
       "      <th>25%</th>\n",
       "      <td>1.000000</td>\n",
       "      <td>9.000000</td>\n",
       "      <td>2.016042e+10</td>\n",
       "    </tr>\n",
       "    <tr>\n",
       "      <th>50%</th>\n",
       "      <td>2.000000</td>\n",
       "      <td>15.000000</td>\n",
       "      <td>2.016093e+10</td>\n",
       "    </tr>\n",
       "    <tr>\n",
       "      <th>75%</th>\n",
       "      <td>3.000000</td>\n",
       "      <td>29.000000</td>\n",
       "      <td>2.017023e+10</td>\n",
       "    </tr>\n",
       "    <tr>\n",
       "      <th>max</th>\n",
       "      <td>4.000000</td>\n",
       "      <td>180.000000</td>\n",
       "      <td>2.017063e+10</td>\n",
       "    </tr>\n",
       "  </tbody>\n",
       "</table>\n",
       "</div>"
      ],
      "text/plain": [
       "           Junction      Vehicles            ID\n",
       "count  48120.000000  48120.000000  4.812000e+04\n",
       "mean       2.180549     22.791334  2.016330e+10\n",
       "std        0.966955     20.750063  5.944854e+06\n",
       "min        1.000000      1.000000  2.015110e+10\n",
       "25%        1.000000      9.000000  2.016042e+10\n",
       "50%        2.000000     15.000000  2.016093e+10\n",
       "75%        3.000000     29.000000  2.017023e+10\n",
       "max        4.000000    180.000000  2.017063e+10"
      ]
     },
     "execution_count": 54,
     "metadata": {},
     "output_type": "execute_result"
    }
   ],
   "source": [
    "df.describe()"
   ]
  },
  {
   "cell_type": "code",
   "execution_count": 55,
   "id": "288df678",
   "metadata": {},
   "outputs": [
    {
     "data": {
      "text/plain": [
       "DateTime    object\n",
       "Junction     int64\n",
       "Vehicles     int64\n",
       "ID           int64\n",
       "dtype: object"
      ]
     },
     "execution_count": 55,
     "metadata": {},
     "output_type": "execute_result"
    }
   ],
   "source": [
    "df.dtypes"
   ]
  },
  {
   "cell_type": "code",
   "execution_count": 56,
   "id": "bf1a7ba5",
   "metadata": {},
   "outputs": [],
   "source": [
    "# Convert the 'DateTime' column to datetime format\n",
    "df['DateTime'] = pd.to_datetime(df['DateTime'], format=\"%d/%m/%y %H:%M\")\n",
    "\n",
    "# Create a new column with just the hourly timestamp\n",
    "df['Hour'] = df['DateTime'].dt.floor('H')\n",
    "\n",
    "# Group by 'Junction' and 'Hour' and sum the vehicle counts\n",
    "hourly_traffic = df.groupby(['Junction', 'Hour'])['Vehicles'].sum().reset_index()"
   ]
  },
  {
   "cell_type": "code",
   "execution_count": 57,
   "id": "735ab4e6",
   "metadata": {},
   "outputs": [
    {
     "data": {
      "text/html": [
       "<div>\n",
       "<style scoped>\n",
       "    .dataframe tbody tr th:only-of-type {\n",
       "        vertical-align: middle;\n",
       "    }\n",
       "\n",
       "    .dataframe tbody tr th {\n",
       "        vertical-align: top;\n",
       "    }\n",
       "\n",
       "    .dataframe thead th {\n",
       "        text-align: right;\n",
       "    }\n",
       "</style>\n",
       "<table border=\"1\" class=\"dataframe\">\n",
       "  <thead>\n",
       "    <tr style=\"text-align: right;\">\n",
       "      <th></th>\n",
       "      <th>Junction</th>\n",
       "      <th>Hour</th>\n",
       "      <th>Vehicles</th>\n",
       "    </tr>\n",
       "  </thead>\n",
       "  <tbody>\n",
       "    <tr>\n",
       "      <th>0</th>\n",
       "      <td>1</td>\n",
       "      <td>2015-11-01 00:00:00</td>\n",
       "      <td>15</td>\n",
       "    </tr>\n",
       "    <tr>\n",
       "      <th>1</th>\n",
       "      <td>1</td>\n",
       "      <td>2015-11-01 01:00:00</td>\n",
       "      <td>13</td>\n",
       "    </tr>\n",
       "    <tr>\n",
       "      <th>2</th>\n",
       "      <td>1</td>\n",
       "      <td>2015-11-01 02:00:00</td>\n",
       "      <td>10</td>\n",
       "    </tr>\n",
       "    <tr>\n",
       "      <th>3</th>\n",
       "      <td>1</td>\n",
       "      <td>2015-11-01 03:00:00</td>\n",
       "      <td>7</td>\n",
       "    </tr>\n",
       "    <tr>\n",
       "      <th>4</th>\n",
       "      <td>1</td>\n",
       "      <td>2015-11-01 04:00:00</td>\n",
       "      <td>9</td>\n",
       "    </tr>\n",
       "  </tbody>\n",
       "</table>\n",
       "</div>"
      ],
      "text/plain": [
       "   Junction                Hour  Vehicles\n",
       "0         1 2015-11-01 00:00:00        15\n",
       "1         1 2015-11-01 01:00:00        13\n",
       "2         1 2015-11-01 02:00:00        10\n",
       "3         1 2015-11-01 03:00:00         7\n",
       "4         1 2015-11-01 04:00:00         9"
      ]
     },
     "execution_count": 57,
     "metadata": {},
     "output_type": "execute_result"
    }
   ],
   "source": [
    "hourly_traffic.head()"
   ]
  },
  {
   "cell_type": "code",
   "execution_count": 58,
   "id": "187dfd10",
   "metadata": {},
   "outputs": [],
   "source": [
    "scaler = StandardScaler()\n",
    "hourly_traffic['Vehicles_Standardized'] = scaler.fit_transform(hourly_traffic[['Vehicles']])"
   ]
  },
  {
   "cell_type": "code",
   "execution_count": 59,
   "id": "ad3adb2f",
   "metadata": {},
   "outputs": [
    {
     "data": {
      "text/html": [
       "<div>\n",
       "<style scoped>\n",
       "    .dataframe tbody tr th:only-of-type {\n",
       "        vertical-align: middle;\n",
       "    }\n",
       "\n",
       "    .dataframe tbody tr th {\n",
       "        vertical-align: top;\n",
       "    }\n",
       "\n",
       "    .dataframe thead th {\n",
       "        text-align: right;\n",
       "    }\n",
       "</style>\n",
       "<table border=\"1\" class=\"dataframe\">\n",
       "  <thead>\n",
       "    <tr style=\"text-align: right;\">\n",
       "      <th></th>\n",
       "      <th>Junction</th>\n",
       "      <th>Hour</th>\n",
       "      <th>Vehicles</th>\n",
       "      <th>Vehicles_Standardized</th>\n",
       "    </tr>\n",
       "  </thead>\n",
       "  <tbody>\n",
       "    <tr>\n",
       "      <th>0</th>\n",
       "      <td>1</td>\n",
       "      <td>2015-11-01 00:00:00</td>\n",
       "      <td>15</td>\n",
       "      <td>-0.375489</td>\n",
       "    </tr>\n",
       "    <tr>\n",
       "      <th>1</th>\n",
       "      <td>1</td>\n",
       "      <td>2015-11-01 01:00:00</td>\n",
       "      <td>13</td>\n",
       "      <td>-0.471875</td>\n",
       "    </tr>\n",
       "    <tr>\n",
       "      <th>2</th>\n",
       "      <td>1</td>\n",
       "      <td>2015-11-01 02:00:00</td>\n",
       "      <td>10</td>\n",
       "      <td>-0.616454</td>\n",
       "    </tr>\n",
       "    <tr>\n",
       "      <th>3</th>\n",
       "      <td>1</td>\n",
       "      <td>2015-11-01 03:00:00</td>\n",
       "      <td>7</td>\n",
       "      <td>-0.761034</td>\n",
       "    </tr>\n",
       "    <tr>\n",
       "      <th>4</th>\n",
       "      <td>1</td>\n",
       "      <td>2015-11-01 04:00:00</td>\n",
       "      <td>9</td>\n",
       "      <td>-0.664648</td>\n",
       "    </tr>\n",
       "  </tbody>\n",
       "</table>\n",
       "</div>"
      ],
      "text/plain": [
       "   Junction                Hour  Vehicles  Vehicles_Standardized\n",
       "0         1 2015-11-01 00:00:00        15              -0.375489\n",
       "1         1 2015-11-01 01:00:00        13              -0.471875\n",
       "2         1 2015-11-01 02:00:00        10              -0.616454\n",
       "3         1 2015-11-01 03:00:00         7              -0.761034\n",
       "4         1 2015-11-01 04:00:00         9              -0.664648"
      ]
     },
     "execution_count": 59,
     "metadata": {},
     "output_type": "execute_result"
    }
   ],
   "source": [
    "hourly_traffic.head()"
   ]
  },
  {
   "cell_type": "code",
   "execution_count": 60,
   "id": "606b4d7c",
   "metadata": {},
   "outputs": [],
   "source": [
    "# Generate time-based features\n",
    "df['HourOfDay'] = df['DateTime'].dt.hour\n",
    "df['DayOfWeek'] = df['DateTime'].dt.dayofweek  # Monday = 0, Sunday = 6\n",
    "df['Month'] = df['DateTime'].dt.month\n"
   ]
  },
  {
   "cell_type": "code",
   "execution_count": 61,
   "id": "33a9ab79",
   "metadata": {},
   "outputs": [],
   "source": [
    "# Binary indicator for weekends\n",
    "df['IsWeekend'] = df['DayOfWeek'].isin([5, 6]).astype(int)\n",
    "\n",
    "# Sort by Junction and DateTime to maintain temporal order\n",
    "df.sort_values(by=['Junction', 'DateTime'], inplace=True)\n",
    "\n",
    "# Create lag features (1, 2, and 3 hours prior traffic)\n",
    "df['Lag_1hr'] = df.groupby('Junction')['Vehicles'].shift(1)\n",
    "df['Lag_2hr'] = df.groupby('Junction')['Vehicles'].shift(2)\n",
    "df['Lag_3hr'] = df.groupby('Junction')['Vehicles'].shift(3)\n"
   ]
  },
  {
   "cell_type": "code",
   "execution_count": 63,
   "id": "787616e1",
   "metadata": {
    "scrolled": true
   },
   "outputs": [
    {
     "data": {
      "image/png": "[encoded data removed]",
      "text/plain": [
       "<Figure size 1000x600 with 2 Axes>"
      ]
     },
     "metadata": {},
     "output_type": "display_data"
    }
   ],
   "source": [
    "# Define target and features\n",
    "target = 'Vehicles'\n",
    "features = [\n",
    "    'HourOfDay', 'DayOfWeek', 'Month', 'IsWeekend',\n",
    "    'Lag_1hr', 'Lag_2hr', 'Lag_3hr'\n",
    "]\n",
    "\n",
    "X = df[features]\n",
    "y = df[target]\n",
    "\n",
    "df[features] = df[features].fillna(method='bfill') \n",
    "\n",
    "# Correlation Matrix\n",
    "plt.figure(figsize=(10, 6))\n",
    "corr = df[features + [target]].corr()\n",
    "sns.heatmap(corr, annot=True, cmap='coolwarm')\n",
    "plt.title(\"Correlation Matrix with Target\")\n",
    "plt.show()\n",
    "\n",
    "\n"
   ]
  },
  {
   "cell_type": "code",
   "execution_count": 65,
   "id": "33862c53",
   "metadata": {},
   "outputs": [],
   "source": [
    "df = df.dropna(subset=features + [target])"
   ]
  },
  {
   "cell_type": "code",
   "execution_count": 77,
   "id": "28d6a558",
   "metadata": {},
   "outputs": [
    {
     "name": "stdout",
     "output_type": "stream",
     "text": [
      "Top features by correlation: ['Lag_1hr', 'Lag_2hr', 'Lag_3hr', 'HourOfDay', 'IsWeekend']\n"
     ]
    }
   ],
   "source": [
    "correlations = df[features + [target]].corr()[target].drop(target)\n",
    "\n",
    "# Select top 5 most correlated features\n",
    "top_features_corr = correlations.abs().sort_values(ascending=False).head(5).index.tolist()\n",
    "\n",
    "# Use only those features\n",
    "X_filtered = df[top_features_corr]\n",
    "print(\"Top features by correlation:\", top_features_corr)"
   ]
  },
  {
   "cell_type": "code",
   "execution_count": null,
   "id": "76c4db6f",
   "metadata": {},
   "outputs": [],
   "source": []
  }
 ],
 "metadata": {
  "kernelspec": {
   "display_name": "Python 3 (ipykernel)",
   "language": "python",
   "name": "python3"
  },
  "language_info": {
   "codemirror_mode": {
    "name": "ipython",
    "version": 3
   },
   "file_extension": ".py",
   "mimetype": "text/x-python",
   "name": "python",
   "nbconvert_exporter": "python",
   "pygments_lexer": "ipython3",
   "version": "3.10.9"
  }
 },
 "nbformat": 4,
 "nbformat_minor": 5
}
